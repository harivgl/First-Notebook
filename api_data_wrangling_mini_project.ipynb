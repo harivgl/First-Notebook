{
 "cells": [
  {
   "cell_type": "markdown",
   "metadata": {},
   "source": [
    "This exercise will require you to pull some data from the Qunadl API. Qaundl is currently the most widely used aggregator of financial market data."
   ]
  },
  {
   "cell_type": "markdown",
   "metadata": {},
   "source": [
    "As a first step, you will need to register a free account on the http://www.quandl.com website."
   ]
  },
  {
   "cell_type": "markdown",
   "metadata": {},
   "source": [
    "After you register, you will be provided with a unique API key, that you should store:"
   ]
  },
  {
   "cell_type": "code",
   "execution_count": null,
   "metadata": {
    "collapsed": true
   },
   "outputs": [],
   "source": [
    "# Store the API key as a string - according to PEP8, constants are always named in all upper case\n",
    "API_KEY = '####################' "
   ]
  },
  {
   "cell_type": "markdown",
   "metadata": {},
   "source": [
    "Qaundl has a large number of data sources, but, unfortunately, most of them require a Premium subscription. Still, there are also a good number of free datasets."
   ]
  },
  {
   "cell_type": "markdown",
   "metadata": {},
   "source": [
    "For this mini project, we will focus on equities data from the Frankfurt Stock Exhange (FSE), which is available for free. We'll try and analyze the stock prices of a company called Carl Zeiss Meditec, which manufactures tools for eye examinations, as well as medical lasers for laser eye surgery: https://www.zeiss.com/meditec/int/home.html. The company is listed under the stock ticker AFX_X."
   ]
  },
  {
   "cell_type": "markdown",
   "metadata": {},
   "source": [
    "You can find the detailed Quandl API instructions here: https://docs.quandl.com/docs/time-series"
   ]
  },
  {
   "cell_type": "markdown",
   "metadata": {},
   "source": [
    "While there is a dedicated Python package for connecting to the Quandl API, we would prefer that you use the *requests* package, which can be easily downloaded using *pip* or *conda*. You can find the documentation for the package here: http://docs.python-requests.org/en/master/ "
   ]
  },
  {
   "cell_type": "markdown",
   "metadata": {},
   "source": [
    "Finally, apart from the *requests* package, you are encouraged to not use any third party Python packages, such as *pandas*, and instead focus on what's available in the Python Standard Library (the *collections* module might come in handy: https://pymotw.com/3/collections/ ).\n",
    "Also, since you won't have access to DataFrames, you are encouraged to us Python's native data structures - preferably dictionaries, though some questions can also be answered using lists.\n",
    "You can read more on these data structures here: https://docs.python.org/3/tutorial/datastructures.html"
   ]
  },
  {
   "cell_type": "markdown",
   "metadata": {},
   "source": [
    "Keep in mind that the JSON responses you will be getting from the API map almost one-to-one to Python's dictionaries. Unfortunately, they can be very nested, so make sure you read up on indexing dictionaries in the documentation provided above."
   ]
  },
  {
   "cell_type": "code",
   "execution_count": 4,
   "metadata": {},
   "outputs": [],
   "source": [
    "# First, import the relevant modules\n",
    "import requests\n",
    "import collections\n",
    "import json"
   ]
  },
  {
   "cell_type": "code",
   "execution_count": 9,
   "metadata": {},
   "outputs": [
    {
     "name": "stdout",
     "output_type": "stream",
     "text": [
      "{'dataset_data': {'limit': 1, 'transform': None, 'column_index': None, 'column_names': ['Date', 'Open', 'High', 'Low', 'Close', 'Volume', 'Ex-Dividend', 'Split Ratio', 'Adj. Open', 'Adj. High', 'Adj. Low', 'Adj. Close', 'Adj. Volume'], 'start_date': '2012-05-18', 'end_date': '2018-03-27', 'frequency': 'daily', 'data': [['2018-03-27', 156.31, 162.85, 150.75, 152.19, 76787884.0, 0.0, 1.0, 156.31, 162.85, 150.75, 152.19, 76787884.0]], 'collapse': None, 'order': None}}\n"
     ]
    }
   ],
   "source": [
    "# Now, call the Quandl API and pull out a small sample of the data (only one day) to get a glimpse\n",
    "# into the JSON structure that will be returned\n",
    "r = requests.get(\"https://www.quandl.com/api/v3/datasets/WIKI/FB/data.json?api_key=####################&limit=1\")\n",
    "json_data = r.json()\n",
    "print(json_data)"
   ]
  },
  {
   "cell_type": "code",
   "execution_count": 12,
   "metadata": {},
   "outputs": [
    {
     "name": "stdout",
     "output_type": "stream",
     "text": [
      "{\n",
      "  \"dataset_data\": {\n",
      "    \"limit\": 1,\n",
      "    \"transform\": null,\n",
      "    \"column_index\": null,\n",
      "    \"column_names\": [\n",
      "      \"Date\",\n",
      "      \"Open\",\n",
      "      \"High\",\n",
      "      \"Low\",\n",
      "      \"Close\",\n",
      "      \"Volume\",\n",
      "      \"Ex-Dividend\",\n",
      "      \"Split Ratio\",\n",
      "      \"Adj. Open\",\n",
      "      \"Adj. High\",\n",
      "      \"Adj. Low\",\n",
      "      \"Adj. Close\",\n",
      "      \"Adj. Volume\"\n",
      "    ],\n",
      "    \"start_date\": \"2012-05-18\",\n",
      "    \"end_date\": \"2018-03-27\",\n",
      "    \"frequency\": \"daily\",\n",
      "    \"data\": [\n",
      "      [\n",
      "        \"2018-03-27\",\n",
      "        156.31,\n",
      "        162.85,\n",
      "        150.75,\n",
      "        152.19,\n",
      "        76787884.0,\n",
      "        0.0,\n",
      "        1.0,\n",
      "        156.31,\n",
      "        162.85,\n",
      "        150.75,\n",
      "        152.19,\n",
      "        76787884.0\n",
      "      ]\n",
      "    ],\n",
      "    \"collapse\": null,\n",
      "    \"order\": null\n",
      "  }\n",
      "}\n"
     ]
    }
   ],
   "source": [
    "# Inspect the JSON structure of the object you created, and take note of how nested it is,\n",
    "# as well as the overall structure\n",
    "print(json.dumps(json_data, indent=2))"
   ]
  },
  {
   "cell_type": "markdown",
   "metadata": {},
   "source": [
    "These are your tasks for this mini project:\n",
    "\n",
    "1. Collect data from the Franfurt Stock Exchange, for the ticker AFX_X, for the whole year 2017 (keep in mind that the date format is YYYY-MM-DD).\n",
    "2. Convert the returned JSON object into a Python dictionary.\n",
    "3. Calculate what the highest and lowest opening prices were for the stock in this period.\n",
    "4. What was the largest change in any one day (based on High and Low price)?\n",
    "5. What was the largest change between any two days (based on Closing Price)?\n",
    "6. What was the average daily trading volume during this year?\n",
    "7. (Optional) What was the median trading volume during this year. (Note: you may need to implement your own function for calculating the median.)"
   ]
  },
  {
   "cell_type": "code",
   "execution_count": 81,
   "metadata": {},
   "outputs": [
    {
     "name": "stdout",
     "output_type": "stream",
     "text": [
      "{\n",
      "  \"dataset\": {\n",
      "    \"id\": 10095370,\n",
      "    \"dataset_code\": \"AFX_X\",\n",
      "    \"database_code\": \"FSE\",\n",
      "    \"name\": \"Carl Zeiss Meditec (AFX_X)\",\n",
      "    \"description\": \"Stock Prices for Carl Zeiss Meditec (2020-08-13) from the Frankfurt Stock Exchange.<br><br>Trading System: Xetra<br><br>ISIN: DE0005313704\",\n",
      "    \"refreshed_at\": \"2020-08-27T22:16:19.063Z\",\n",
      "    \"newest_available_date\": \"2020-08-27\",\n",
      "    \"oldest_available_date\": \"2000-06-07\",\n",
      "    \"column_names\": [\n",
      "      \"Date\",\n",
      "      \"Open\",\n",
      "      \"High\",\n",
      "      \"Low\",\n",
      "      \"Close\",\n",
      "      \"Change\",\n",
      "      \"Traded Volume\",\n",
      "      \"Turnover\",\n",
      "      \"Last Price of the Day\",\n",
      "      \"Daily Traded Units\",\n",
      "      \"Daily Turnover\"\n",
      "    ],\n",
      "    \"frequency\": \"daily\",\n",
      "    \"type\": \"Time Series\",\n",
      "    \"premium\": false,\n",
      "    \"limit\": null,\n",
      "    \"transform\": null,\n",
      "    \"column_index\": null,\n",
      "    \"start_date\": \"2017-01-01\",\n",
      "    \"end_date\": \"2017-12-31\",\n",
      "    \"data\": [\n",
      "      [\n",
      "        \"2017-12-29\",\n",
      "        51.76,\n",
      "        51.94,\n",
      "        51.45,\n",
      "        51.76,\n",
      "        null,\n",
      "        34640.0,\n",
      "        1792304.0,\n",
      "        null,\n",
      "        null,\n",
      "        null\n",
      "      ],\n",
      "      [\n",
      "        \"2017-12-28\",\n",
      "        51.65,\n",
      "        51.82,\n",
      "        51.43,\n",
      "        51.6,\n",
      "        null,\n",
      "        40660.0,\n",
      "        2099024.0,\n",
      "        null,\n",
      "        null,\n",
      "        null\n",
      "      ]\n",
      "    ],\n",
      "    \"collapse\": null,\n",
      "    \"order\": null,\n",
      "    \"database_id\": 6129\n",
      "  }\n",
      "}\n"
     ]
    }
   ],
   "source": [
    "r = requests.get(\"https://www.quandl.com/api/v3/datasets/FSE/AFX_X?start_date=2017-01-01&end_date=2017-12-31&api_key=####################\")\n",
    "json_data = r.json()\n",
    "toprint=json_data\n",
    "toprint['dataset']['data'] = toprint['dataset']['data'][:2]\n",
    "print(json.dumps(toprint, indent=2))"
   ]
  },
  {
   "cell_type": "code",
   "execution_count": 14,
   "metadata": {},
   "outputs": [
    {
     "data": {
      "text/plain": [
       "dict"
      ]
     },
     "execution_count": 14,
     "metadata": {},
     "output_type": "execute_result"
    }
   ],
   "source": [
    "type(json_data)"
   ]
  },
  {
   "cell_type": "code",
   "execution_count": 80,
   "metadata": {},
   "outputs": [
    {
     "name": "stdout",
     "output_type": "stream",
     "text": [
      "• Highest opening price for 2017 was: 53.11 on ['2017-12-20', '2017-12-19', '2017-12-14']\n",
      "\n",
      "• Lowest opening price for 2017 was: 34.0 on ['2017-12-28', '2017-12-27', '2017-12-22', '2017-12-07', '2017-12-06', '2017-12-04', '2017-11-30', '2017-11-22', '2017-11-21', '2017-11-20', '2017-11-08', '2017-11-07', '2017-11-06', '2017-11-03', '2017-10-23', '2017-10-02', '2017-09-29', '2017-09-28', '2017-09-22', '2017-08-11', '2017-04-07', '2017-04-04', '2017-03-29', '2017-03-28', '2017-03-27', '2017-03-22', '2017-02-13', '2017-02-10', '2017-02-09', '2017-02-08', '2017-02-07', '2017-02-01', '2017-01-25', '2017-01-24']\n",
      "\n",
      "• Largest change in any one day (based on High and Low price) was: 2.81 on ['2017-12-29', '2017-12-27', '2017-12-19', '2017-12-04', '2017-11-21', '2017-08-09', '2017-08-07', '2017-05-11']\n",
      "\n",
      "• Largest gain in price was 2.56 on ['2017-12-27', '2017-12-19', '2017-12-18', '2017-08-08']\n",
      "\n",
      "• Largest fall in price was 1.72 on ['2017-12-28', '2017-12-22', '2017-12-15', '2017-12-12', '2017-12-01', '2017-11-20', '2017-09-27', '2017-05-10']\n",
      "\n",
      "• Average daily trading volume in 2017 was: 89124.337\n",
      "\n",
      "• Median trading volume during 2017 was: 76286.0\n"
     ]
    }
   ],
   "source": [
    "low = json_data['dataset']['data'][0][1]\n",
    "high = json_data['dataset']['data'][0][1]\n",
    "lowdays = []\n",
    "highdays = []\n",
    "highdaychange = 0\n",
    "highdaychangedays = []\n",
    "largestjump = 0\n",
    "largestfall = 0\n",
    "largestjumpdays = []\n",
    "largestfalldays = []\n",
    "totalvolume = 0\n",
    "dailyvolume = []\n",
    "close = json_data['dataset']['data'][0][4]\n",
    "for idx,day in enumerate(json_data['dataset']['data']):\n",
    "    if day[1] is not None:\n",
    "        if day[1]<low:\n",
    "            low = day[1]\n",
    "            lowdays.append(day[0])\n",
    "        elif day[1]>high:\n",
    "            high = day[1]\n",
    "            highdays.append(day[0])\n",
    "            \n",
    "    if day[2] and day[3] is not None:\n",
    "        if (day[2]-day[3])>highdaychange:\n",
    "            highdaychange = day[2]-day[3] \n",
    "            highdaychangedays.append(day[0])\n",
    "    \n",
    "    if idx != len(json_data['dataset']['data'])-1:\n",
    "        change = json_data['dataset']['data'][idx+1][4] - day[4]\n",
    "        if change > 0:\n",
    "            if change > largestjump:\n",
    "                largestjump = change\n",
    "                largestjumpdays.append(json_data['dataset']['data'][idx+1][0])\n",
    "        elif change < 0:\n",
    "            if abs(change) > largestfall:\n",
    "                largestfall = abs(change)\n",
    "                largestfalldays.append(json_data['dataset']['data'][idx+1][0])\n",
    "                \n",
    "    totalvolume += day[6]    \n",
    "    dailyvolume.append(day[6])\n",
    "avgvolume = totalvolume/len(json_data['dataset']['data'])\n",
    "dailyvolume.sort()\n",
    "length = len(dailyvolume)\n",
    "if length%2 !=0:\n",
    "    medianvolume = dailyvolume[int(length/2)]\n",
    "else:\n",
    "    medianvolume = (dailyvolume[length/2]+dailyvolume[(length/2)-1])/2\n",
    "    \n",
    "print('• Highest opening price for 2017 was:',high,'on',highdays)\n",
    "print('\\n• Lowest opening price for 2017 was:',low,'on',lowdays)\n",
    "print('\\n• Largest change in any one day (based on High and Low price) was:',round(highdaychange,3),'on',highdaychangedays)\n",
    "print('\\n• Largest gain in price was',round(largestjump,3),'on',largestjumpdays)\n",
    "print('\\n• Largest fall in price was',round(largestfall,3),'on',largestfalldays)\n",
    "print('\\n• Average daily trading volume in 2017 was:',round(avgvolume,3))\n",
    "print('\\n• Median trading volume during 2017 was:',medianvolume)"
   ]
  },
  {
   "cell_type": "code",
   "execution_count": null,
   "metadata": {},
   "outputs": [],
   "source": []
  }
 ],
 "metadata": {
  "kernelspec": {
   "display_name": "Python 3",
   "language": "python",
   "name": "python3"
  },
  "language_info": {
   "codemirror_mode": {
    "name": "ipython",
    "version": 3
   },
   "file_extension": ".py",
   "mimetype": "text/x-python",
   "name": "python",
   "nbconvert_exporter": "python",
   "pygments_lexer": "ipython3",
   "version": "3.7.6"
  }
 },
 "nbformat": 4,
 "nbformat_minor": 2
}
